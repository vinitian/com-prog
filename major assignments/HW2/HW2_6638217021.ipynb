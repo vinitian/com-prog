{
  "cells": [
    {
      "cell_type": "markdown",
      "metadata": {
        "id": "0sU9QMjEs3ve"
      },
      "source": [
        "## **Major Assignment #2**\n",
        "\n",
        "Last update: Tuesday 12 September 2023 14:00\n",
        "\n",
        "## Assignment objectives:\n",
        "This assignment is aim to help students to practise their programming skill in using:\n",
        "- string\n",
        "- list\n",
        "- function\n",
        "\n",
        "to solve the problem.\n",
        "\n",
        "# Instructions\n",
        "1. Save a copy of this file in your own Drive or hard disk (**This is very important, otherwise, your work will be lost.**)\n",
        "\n",
        "2. Rename this notebook file to **`HW2_xxxxxxxxxx.ipynb`**, where **`xxxxxxxxxx`** is your student ID.\n",
        "\n",
        "3. Make sure that you do not look at other people's code.\n",
        "\n",
        "4. Make sure that nobody look at your code.\n",
        "\n",
        "5. If your code is similar to other student(s), you will get 0.\n",
        "\n",
        "# Submission\n",
        " * File->Download->Download .ipynb\n",
        " * Submit the downloaded (and modified) file to MyCourseVille **before 23:59 of 14 October 2023**.\n",
        "\n",
        "\n",
        "---\n",
        "\n"
      ]
    },
    {
      "cell_type": "markdown",
      "metadata": {
        "id": "2b8fwN_favNn"
      },
      "source": [
        "# Football League Table\n",
        "\n",
        "You are maintaining a football league table.\n",
        "\n",
        "The table is a list containing each football team information. All teams are assumed to have different names.  \n",
        "Each football team information is a list of [teamname, matchPlayed, points, goalDifference, GoalScores, GoalScoredAgainst] .\n",
        "\n",
        "So, an example table will look like:\n",
        "\n",
        "[['Blackburn', 2, 3, 1, 3, 2], ['Southampton', 1, 3, 1, 2, 1], ['Chelsea', 2, 3, -1, 3, 4]]\n",
        "\n",
        "The table must also have a string representation (for printing and saving to file). From an example table above, a printout version of the table will look like:\n",
        "\n",
        "<pre>\n",
        "Team        |Pld|Pts|Dif|For|Agst|\n",
        "Blackburn   |  2|  3|  1|  3|   2|\n",
        "Southampton |  1|  3|  1|  2|   1|\n",
        "Chelsea     |  2|  3| -1|  3|   4|\n",
        "</pre>    \n",
        "\n",
        "You can see that there is a header row.\n",
        "\n",
        "A team name can have 12 characters (including the filled in blanks).\n",
        "\n",
        "A matched played cell (Pld) can have 3 characters (including the filled in blanks, which must be filled on the left).\n",
        "\n",
        "Other cells are just like the matched played cell, except GoalScoredAgainst cell (Agst), which contains 4 characters.\n",
        "\n",
        "# Your task\n",
        "Complete the following functions of the program that manages football league table:\n",
        "\n",
        "1. **`createTable(s)`**\n",
        "\n",
        "Create table from a string of team names (each name is separaated by a blank space), for example: \"Arsenal Liverpool Chelsea\".\n",
        "- The table will have all number cells filled with 0.\n",
        "- for example, parameter \"Arsenal Liverpool Chelsea\" will generate table: [[\"Arsenal\",0,0,0,0,0],[\"Chelsea\",0,0,0,0,0],[\"Liverpool\",0,0,0,0,0]]\n",
        "- Note that the table must be sorted according to function \"sortTable\".\n",
        "- This function returns the created table.\n",
        "\n",
        "---\n",
        "\n",
        "2. **`sortTable(table)`**\n",
        "\n",
        "Sort the table by the following fields in order:\n",
        "- Pts (descending)\n",
        "- Dif (descending)\n",
        "- For (descending)\n",
        "- Agst (ascending)\n",
        "- teamname (ascending)\n",
        "- Pld (ascending)\n",
        "\n",
        "Return the sorted table.\n",
        "\n",
        "For example:\n",
        "\n",
        "sortTable([['Blackburn', 2, 3, 1, 3, 2], ['Southampton', 2, 4, 2, 3, 1]]) returns\n",
        "\n",
        "[['Southampton', 2, 4, 2, 3, 1], ['Blackburn', 2, 3, 1, 3, 2]]\n",
        "\n",
        "sorTable([['Chelsea', 2, 3, 0, 4, 4], ['Blackburn', 2, 3, 1, 3, 2]]) returns\n",
        "\n",
        "[['Blackburn', 2, 3, 1, 3, 2], ['Chelsea', 2, 3, 0, 4, 4]]\n",
        "\n",
        "sortTable([['Stoke', 2, 0, -1, 1, 2], ['Newcastle', 1, 0, -1, 1, 2], ['Everton', 2, 0, -1, 1, 2],['Derby', 2, 0, -1, 1, 1], ['Liverpool', 1, 1, 0, 5, 5], ['Blackburn', 2, 3, 1, 3, 2], ['Chelsea', 2, 3, 0, 4, 4], ['Arsenal', 1, 1, 0, 4, 4], ['Southampton', 2, 4, 2, 3, 1]]) returns\n",
        "\n",
        "[['Southampton', 2, 4, 2, 3, 1], ['Blackburn', 2, 3, 1, 3, 2], ['Chelsea', 2, 3, 0, 4, 4], ['Liverpool', 1, 1, 0, 5, 5], ['Arsenal', 1, 1, 0, 4, 4], ['Derby', 2, 0, -1, 1, 1], ['Everton', 2, 0, -1, 1, 2], ['Newcastle', 1, 0, -1, 1, 2], ['Stoke', 2, 0, -1, 1, 2]]\n",
        "\n",
        "---\n",
        "\n",
        "3. **`toString(table)`**\n",
        "\n",
        "Create a string that represents the table for printing.\n",
        "- For example if the table is: [[\"Arsenal\",0,0,0,0,0],[\"Chelsea\",0,0,0,0,0],[\"Liverpool\",0,0,0,0,0]]\n",
        "- The following string will be returned:\n",
        "\n",
        "<pre>\n",
        "   \"Team        |Pld|Pts|Dif|For|Agst|\n",
        "    Arsenal     |  0|  0|  0|  0|   0|\n",
        "    Chelsea     |  0|  0|  0|  0|   0|\n",
        "    Liverpool   |  0|  0|  0|  0|   0|\"\n",
        "</pre>\n",
        "\n",
        "(Note that there are invisible \"\\n\" at the end of each line)\n",
        "\n",
        "A team name can have 12 characters (including the filled in blanks).\n",
        "\n",
        "A matched played cell (Pld) can have 3 characters (including the filled in blanks, which must be filled on the left).\n",
        "\n",
        "Other cells are just like the matched played cell, except GoalScoredAgainst cell (Agst), which contains 4 characters.\n",
        "\n",
        "---\n",
        "\n",
        "4. **`saveTable(table)`**\n",
        "\n",
        "Save the table to file (as a ready-to-print string). Also print the table out on console.\n",
        "\n",
        "If the table is:\n",
        "\n",
        "[['Blackburn', 2, 3, 1, 3, 2], ['Southampton', 1, 3, 1, 2, 1], ['Chelsea', 2, 3, -1, 3, 4], ['Arsenal', 1, 1, 0, 4, 4], ['Liverpool', 1, 1, 0, 4, 4], ['Everton', 1, 0, -1, 1, 2]]\n",
        "\n",
        "Then saveTable(table) will print:\n",
        "\n",
        "<pre>\n",
        "Team        |Pld|Pts|Dif|For|Agst|\n",
        "Blackburn   |  2|  3|  1|  3|   2|\n",
        "Southampton |  1|  3|  1|  2|   1|\n",
        "Chelsea     |  2|  3| -1|  3|   4|\n",
        "Arsenal     |  1|  1|  0|  4|   4|\n",
        "Liverpool   |  1|  1|  0|  4|   4|\n",
        "Everton     |  1|  0| -1|  1|   2|\n",
        "</pre>\n",
        "    \n",
        "And the printed string will be saved into the file \"table.txt\". (In this homework, you must use this file name.)\n",
        "\n",
        "---\n",
        "\n",
        "5. **`match(table, team1, team2, score1, score2)`**\n",
        "\n",
        "Input is the table, team1 name, team2 name, goals that team1 scores, goals that team2 scores.\n",
        "- if team1 and team2 are the same, just report \"Error: a team plays the same team!\" and return table.\n",
        "- if both teams are not in the table, report \"Error: Both team do not exist in the table!\" and return table.\n",
        "- if only team1 is in the table, report \"Error: Second team does not exist in the table!\" and return table.\n",
        "- if only team2 is in the table, report \"Error: First team does not exist in the table!\" and return table.\n",
        "- otherwise, update the table:\n",
        "    - winning team scores 3 points, drawing gets 1 point, losing team gets 0 point.\n",
        "    - Pld has to increase by 1.\n",
        "    - Goal difference is the team's score - the other team's score.\n",
        "    - For needs to be added by the goal scored by the team.\n",
        "    - Agst needs to be added by the goal scored by the opposition team.\n",
        "\n",
        "- return the updated table that is already sorted.\n",
        "\n",
        "6. **`changePoint(table, team, point)`**\n",
        "\n",
        "This function change sthe Pts of the given team by \"point\" amount (can be positive and negative integer). Only the point is changed. This change can move the team up or down the table.\n",
        "\n",
        "Return the updated table after point change (the table must be sorted again).\n",
        "\n",
        "7. **`removeTeams(table, toRemove)`**\n",
        "\n",
        "This function removes some team from the table.\n",
        "- toRemove is a list of team names to remove, for example: [\"Southampton\", \"Arsenal\", \"Liverpool\"].\n",
        "- It is ok for the input to have a team that is not in the table. The program will simply ignore that team.\n",
        "- This function returns the updated table (must already be sorted again).\n",
        "\n",
        "8. **`addTeams(table, toRemove)`**\n",
        "\n",
        "Add some team to the given table (assume that no team with the same name as existing ones are added).\n",
        "- toAdd is a list of team names to add, for example: [\"Southampton\", \"Arsenal\", \"Liverpool\"].\n",
        "- all numbers for the new teams are set to 0.\n",
        "- return the updated table (must already be sorted again).\n",
        "\n",
        "9. **`resetTable(table)`**\n",
        "\n",
        "- reset all number information in the table to 0.\n",
        "- return the updated table (already sorted again).\n",
        "\n",
        "[['Blackburn', 2, 3, 1, 3, 2], ['Southampton', 1, 3, 1, 2, 1], ['Chelsea', 2, 3, -1, 3, 4]] will become [['Blackburn', 0, 0, 0, 0, 0],  ['Chelsea', 0, 0, 0, 0, 0], ['Southampton', 0, 0, 0, 0, 0]]\n",
        "\n",
        "10. **`loadFile(filename)`**\n",
        "\n",
        "This function makes a table from a given text file.\n",
        "- the text file form is similar to the following example (actual file is also given).\n",
        "- be careful, there are white spaces to make the table readable:\n",
        "\n",
        "<pre>\n",
        "Team        |Pld|Pts|Dif|For|Agst|    \n",
        "Blackburn   |  2|  3|  1|  3|   2|\n",
        "Southampton |  1|  3|  1|  2|   1|\n",
        "Chelsea     |  2|  3| -1|  3|   4|\n",
        "Arsenal     |  1|  1|  0|  4|   4|\n",
        "Liverpool   |  1|  1|  0|  4|   4|\n",
        "Everton     |  1|  0| -1|  1|   2|\n",
        "</pre>\n",
        "\n",
        "- return the table (must be sorted).\n",
        "\n",
        "The above file will return:\n",
        "\n",
        "[['Blackburn', 2, 3, 1, 3, 2], ['Southampton', 1, 3, 1, 2, 1], ['Chelsea', 2, 3, -1, 3, 4], ['Arsenal', 1, 1, 0, 4, 4], ['Liverpool', 1, 1, 0, 4, 4], ['Everton', 1, 0, -1, 1, 2]]\n",
        "\n",
        "\n",
        "\n",
        "## Note:\n",
        "\n",
        "# <font color=\"red\"> **Rules: Very important** </font>\n",
        "- Do not delete or modify the first line in the given code cell.\n",
        "- You work must be added in the provided area only.\n",
        "- If you want to write your own program to test, add new code cell after the 'Test' section.\n",
        "- **You are allowed to use knowledge in chapter 1-7**\n",
        "- **`tuple, dict, set, numpy`** are **NOT** allowed. If you violate, you will not get mark for the function that violate the rules.\n",
        "- You are not allowed to import any library. If you use other IDE to write the program, make sure that you remove all imports generated from the IDE before submit.\n",
        "- Your program must be able to run without any compilation error, especially indentation error.\n",
        "\n",
        "# Mistakes from the past:\n",
        "- Not submit in .ipynb format.\n",
        "- Not use File>Download>.ipynb to download, but rename .py to .ipynb (file is not in .ipynb format!!).\n",
        "- Use IDE that automatically import some libraries that are not allowed and not remove before submit.\n",
        "- Use IDE to write and test without error, but not recheck when copy the code to homework's colab file (sometimes get the indentation error).\n",
        "- Use IDE, when copy the code, replace the first line in the code cell (the first line begins with #HW2 ...).\n",
        "- The examples in each function do not cover all possible situations. You should think about all possible situations and test them with your own test data.\n",
        "\n"
      ]
    },
    {
      "cell_type": "code",
      "execution_count": null,
      "metadata": {
        "id": "WC-Rx-C54OE6"
      },
      "outputs": [],
      "source": [
        "# HW2 Football-League-Table (*** DO NOT DELETE this line or add line before this ***)\n",
        "# Only add your code in the provided area.\n",
        "# DO NOT delete or modified the given code in main()\n",
        "\n",
        "def toString(table):\n",
        "    # create a string that represents the table for printing\n",
        "    # for example if the table is: [[\"Arsenal\",0,0,0,0,0],[\"Chelsea\",0,0,0,0,0],[\"Liverpool\",0,0,0,0,0]]\n",
        "    # this method will return a string that can be printed as a table\n",
        "\n",
        "    #Team        |Pld|Pts|Dif|For|Agst|\n",
        "    #Arsenal     |  0|  0|  0|  0|   0|\n",
        "    #Chelsea     |  0|  0|  0|  0|   0|\n",
        "    #Liverpool   |  0|  0|  0|  0|   0|\n",
        "\n",
        "    # team name can have up to 12 characters\n",
        "    # Pld, Pts, Dif, For can have up to 3 characters\n",
        "    # Agst can have up to 4 characters\n",
        "\n",
        "    # enter your code here\n",
        "    s = \"Team        |Pld|Pts|Dif|For|Agst|\\n\"\n",
        "    for i in range(len(table)):\n",
        "      s += table[i][0]+\" \"*(12-len(table[i][0])) + \"|\"\n",
        "      for j in range(1,5):\n",
        "        s += \" \"*(3-len(str(table[i][j]))) + str(table[i][j]) + \"|\"\n",
        "      s += \" \"*(4-len(str(table[i][5]))) + str(table[i][5]) + \"|\\n\"\n",
        "    return s\n",
        "\n",
        "\n",
        "\n",
        "\n",
        "\n",
        "\n",
        "def createTable(s):\n",
        "    # create table from team names, for example: \"Arsenal Liverpool Chelsea\"\n",
        "    # return the created table, for example: [[\"Arsenal\",0,0,0,0,0],[\"Chelsea\",0,0,0,0,0],[\"Liverpool\",0,0,0,0,0]]\n",
        "    # the created table must be sorted according to function \"sortTable\"\n",
        "\n",
        "    # enter your code here\n",
        "    s = s.split()\n",
        "    x = []\n",
        "    for i in range(len(s)):\n",
        "      x.append([s[i],0,0,0,0,0])\n",
        "    x = sortTable(x)\n",
        "    return x\n",
        "\n",
        "\n",
        "\n",
        "\n",
        "def sortTable(table):\n",
        "    # sort table by the following fields in order:\n",
        "    # Pts (descending)\n",
        "    # Dif (descending)\n",
        "    # For (descending)\n",
        "    # Agst (ascending)\n",
        "    # teamname (ascending)\n",
        "    # Pld (ascending)\n",
        "\n",
        "    # return the sorted table\n",
        "    # enter your code here\n",
        "    forSort = []\n",
        "    for i in range(len(table)):\n",
        "        forSort.append([-1*table[i][2], -1*table[i][3], -1*table[i][4], table[i][5], table[i][0], table[i][1]])\n",
        "\n",
        "    newTable = []\n",
        "    forSort = sorted(forSort)\n",
        "    for i in range(len(forSort)):\n",
        "        for j in range(len(table)):\n",
        "            if forSort[i][4] == table[j][0]:\n",
        "                newTable.append(table[j])\n",
        "                break\n",
        "\n",
        "    return newTable\n",
        "\n",
        "\n",
        "\n",
        "\n",
        "\n",
        "\n",
        "\n",
        "def saveTable(table):\n",
        "    # save the table to file \"table.txt\" (as a ready-to-print string)\n",
        "    # also print the table out\n",
        "    # enter your code here\n",
        "    table = toString(table)\n",
        "    textFile = open(\"table.txt\", \"w\")\n",
        "    textFile.write(table)\n",
        "    textFile.close()\n",
        "    print(table)\n",
        "\n",
        "\n",
        "\n",
        "\n",
        "\n",
        "\n",
        "def match(table, team1, team2, score1, score2):\n",
        "    # input is the table, team1 name, team2 name, goals that team1 scores, goals that team2 scores\n",
        "    # if team1 and team2 are the same, just report and return table\n",
        "    # if either team is not in the table, report accordingly and return table\n",
        "    # otherwise, update the table and return the updated table that is already sorted\n",
        "\n",
        "    # enter your code here\n",
        "    names = []\n",
        "    for i in range(len(table)):\n",
        "        names.append(table[i][0])\n",
        "    if team1 == team2:\n",
        "      print(\"Error: a team plays the same team!\")\n",
        "      return table\n",
        "    elif (team1 not in names) and (team2 not in names):\n",
        "      print(\"Error: Both team do not exist in the table!\")\n",
        "      return table\n",
        "    elif (team1 in names) and (team2 not in names):\n",
        "      print(\"Error: Second team does not exist in the table!\")\n",
        "      return table\n",
        "    elif (team1 not in names) and (team2 in names):\n",
        "      print(\"Error: First team does not exist in the table!\")\n",
        "      return table\n",
        "\n",
        "    else:\n",
        "      if score1 > score2:\n",
        "          win = team1\n",
        "      elif score1 == score2:\n",
        "          win = 'draw'\n",
        "      else:\n",
        "          win = team2\n",
        "\n",
        "    for name in [team1, team2]:\n",
        "      for i in range(len(table)):\n",
        "          if name == table[i][0]:\n",
        "              #Pts\n",
        "              if win == name:\n",
        "                  table[i][2] += 3\n",
        "              elif win == 'draw':\n",
        "                  table[i][2] += 1\n",
        "\n",
        "              #Pld\n",
        "              table[i][1] += 1\n",
        "\n",
        "              #Dif\n",
        "              if name == team1:\n",
        "                  table[i][3] = score1-score2\n",
        "              else:\n",
        "                  table[i][3] = score2-score1\n",
        "\n",
        "              #For & Agst\n",
        "              if name == team1:\n",
        "                  table[i][4] += score1\n",
        "                  table[i][5] += score2\n",
        "              elif name == team2:\n",
        "                  table[i][4] += score2\n",
        "                  table[i][5] += score1\n",
        "\n",
        "    table = sortTable(table)\n",
        "    return(table)\n",
        "\n",
        "\n",
        "\n",
        "\n",
        "\n",
        "\n",
        "def changePoint(table, team, point):\n",
        "    # change the Pts of the given team by \"point\" amount (can be positive and negative integer)\n",
        "    # return the updated table after point change (the table must be sorted again)\n",
        "\n",
        "    #enter your code here\n",
        "\n",
        "    for i in range(len(table)):\n",
        "      if team == table[i][0]:\n",
        "        table[i][2] += point\n",
        "        break\n",
        "\n",
        "    table = sortTable(table)\n",
        "    return(table)\n",
        "\n",
        "\n",
        "\n",
        "\n",
        "\n",
        "\n",
        "\n",
        "def removeTeams(table, toRemove):\n",
        "    # remove some team from the table ,\n",
        "    # toRemove is a list of team names to remove, for example: [\"Southampton\", \"Arsenal\", \"Liverpool\"]\n",
        "    # return the updated table (must already be sorted again)\n",
        "\n",
        "    # enter your code here\n",
        "    names = []\n",
        "    for i in range(len(table)):\n",
        "        names.append(table[i][0])\n",
        "\n",
        "    for j in toRemove:\n",
        "      for i in range(len(table)):\n",
        "        if j == table[i][0]:\n",
        "          table.pop(i)\n",
        "          break\n",
        "\n",
        "    table = sortTable(table)\n",
        "    return(table)\n",
        "\n",
        "\n",
        "\n",
        "\n",
        "\n",
        "\n",
        "\n",
        "def addTeams(table, toAdd):\n",
        "    # add some team to the table,\n",
        "    # toAdd is a list of team names to add, for example: [\"Southampton\", \"Arsenal\", \"Liverpool\"]\n",
        "    # set all numbers associated with the newly added teams to 0\n",
        "    # return the updated table (must already be sorted again)\n",
        "    # Assume that the name of team will never duplicate with existing ones in the table!\n",
        "\n",
        "    # enter your code here\n",
        "    for i in toAdd:\n",
        "      table.append([i,0,0,0,0,0])\n",
        "\n",
        "    table = sortTable(table)\n",
        "    return(table)\n",
        "\n",
        "\n",
        "\n",
        "\n",
        "\n",
        "def resetTable(table):\n",
        "    # reset all number information in the table to 0\n",
        "    # return the updated table (already sorted again)\n",
        "    # enter your code here\n",
        "    for i in range(len(table)):\n",
        "      table[i][1], table[i][2], table[i][3], table[i][4], table[i][5] = 0,0,0,0,0\n",
        "\n",
        "    table = sortTable(table)\n",
        "    return table\n",
        "\n",
        "\n",
        "\n",
        "\n",
        "\n",
        "def loadFile(filename):\n",
        "    # make a table from a given text file\n",
        "    # the text file form is similar to the following example (actual file is also given)\n",
        "    # Be careful, there are white spaces to make the table readable:\n",
        "\n",
        "    # Team        |Pld|Pts|Dif|For|Agst|\n",
        "    # Blackburn   |  2|  3|  1|  3|   2|\n",
        "    # Southampton |  1|  3|  1|  2|   1|\n",
        "    # Chelsea     |  2|  3| -1|  3|   4|\n",
        "    # Arsenal     |  1|  1|  0|  4|   4|\n",
        "    # Liverpool   |  1|  1|  0|  4|   4|\n",
        "    # Everton     |  1|  0| -1|  1|   2|\n",
        "\n",
        "    # return the table (must be sorted)\n",
        "\n",
        "    # enter your code here\n",
        "    f = open(filename, \"r\")\n",
        "    s = f.readlines()\n",
        "    s.pop(0)\n",
        "    for i in range(len(s)):\n",
        "        s[i] = s[i].strip(\"|\\n\")\n",
        "\n",
        "    table = []\n",
        "\n",
        "    for i in range(len(s)):\n",
        "        table.append(s[i].split(\"|\"))\n",
        "\n",
        "    for i in range(len(s)):\n",
        "        for j in range(6):\n",
        "            table[i][j] = table[i][j].strip()\n",
        "            if j != 0:\n",
        "                table[i][j] = int(table[i][j])\n",
        "\n",
        "    sortTable(table)\n",
        "    return table\n",
        ""
      ]
    },
    {
      "cell_type": "markdown",
      "metadata": {
        "id": "UvBD8DrbqKHq"
      },
      "source": [
        "## TEST\n",
        "\n",
        "You can test your program by adding new code cell after this cell."
      ]
    },
    {
      "cell_type": "markdown",
      "metadata": {
        "id": "o1_osXor3Q3Z"
      },
      "source": [
        "These test examples will all return true for every line if your codes are correct. Not all functions are tested here though. You will have to write additional tests by yourself.\n",
        "\n",
        "Test CreateTable:"
      ]
    },
    {
      "cell_type": "code",
      "execution_count": null,
      "metadata": {
        "colab": {
          "base_uri": "https://localhost:8080/"
        },
        "id": "T7o6-67b1DRk",
        "outputId": "307b586d-d37a-4aa2-cb8e-d9658e15b041"
      },
      "outputs": [
        {
          "name": "stdout",
          "output_type": "stream",
          "text": [
            "True\n",
            "True\n"
          ]
        }
      ],
      "source": [
        "\n",
        "x = createTable(\"Arsenal Liverpool Chelsea\") == [[\"Arsenal\",0,0,0,0,0],[\"Chelsea\",0,0,0,0,0],[\"Liverpool\",0,0,0,0,0]]\n",
        "y = createTable(\"Liverpool Newcastle Tottemham Blackburn Stoke Bolton Arsenal ManCity\") == [[\"Arsenal\",0,0,0,0,0], [\"Blackburn\",0,0,0,0,0], [\"Bolton\",0,0,0,0,0],[\"Liverpool\",0,0,0,0,0], [\"ManCity\",0,0,0,0,0], [\"Newcastle\",0,0,0,0,0], [\"Stoke\",0,0,0,0,0], [\"Tottemham\",0,0,0,0,0]]\n",
        "print(x)\n",
        "print(y)\n"
      ]
    },
    {
      "cell_type": "markdown",
      "metadata": {
        "id": "IHVkWHHBEN_J"
      },
      "source": [
        "Test sortTable:"
      ]
    },
    {
      "cell_type": "code",
      "execution_count": 1,
      "metadata": {
        "id": "f1ZSaexbzSSy",
        "outputId": "316966e3-1b8a-4f11-fd49-a8659ed63eab",
        "colab": {
          "base_uri": "https://localhost:8080/",
          "height": 251
        }
      },
      "outputs": [
        {
          "output_type": "error",
          "ename": "NameError",
          "evalue": "ignored",
          "traceback": [
            "\u001b[0;31m---------------------------------------------------------------------------\u001b[0m",
            "\u001b[0;31mNameError\u001b[0m                                 Traceback (most recent call last)",
            "\u001b[0;32m<ipython-input-1-05f908d4cee5>\u001b[0m in \u001b[0;36m<cell line: 2>\u001b[0;34m()\u001b[0m\n\u001b[1;32m      1\u001b[0m \u001b[0mtable\u001b[0m \u001b[0;34m=\u001b[0m \u001b[0;34m[\u001b[0m\u001b[0;34m[\u001b[0m\u001b[0;34m'Blackburn'\u001b[0m\u001b[0;34m,\u001b[0m \u001b[0;36m2\u001b[0m\u001b[0;34m,\u001b[0m \u001b[0;36m3\u001b[0m\u001b[0;34m,\u001b[0m \u001b[0;36m1\u001b[0m\u001b[0;34m,\u001b[0m \u001b[0;36m3\u001b[0m\u001b[0;34m,\u001b[0m \u001b[0;36m2\u001b[0m\u001b[0;34m]\u001b[0m\u001b[0;34m,\u001b[0m \u001b[0;34m[\u001b[0m\u001b[0;34m'Southampton'\u001b[0m\u001b[0;34m,\u001b[0m \u001b[0;36m2\u001b[0m\u001b[0;34m,\u001b[0m \u001b[0;36m4\u001b[0m\u001b[0;34m,\u001b[0m \u001b[0;36m2\u001b[0m\u001b[0;34m,\u001b[0m \u001b[0;36m3\u001b[0m\u001b[0;34m,\u001b[0m \u001b[0;36m1\u001b[0m\u001b[0;34m]\u001b[0m\u001b[0;34m]\u001b[0m\u001b[0;34m\u001b[0m\u001b[0;34m\u001b[0m\u001b[0m\n\u001b[0;32m----> 2\u001b[0;31m \u001b[0mx\u001b[0m \u001b[0;34m=\u001b[0m \u001b[0msortTable\u001b[0m\u001b[0;34m(\u001b[0m\u001b[0mtable\u001b[0m\u001b[0;34m)\u001b[0m \u001b[0;34m==\u001b[0m \u001b[0;34m[\u001b[0m\u001b[0;34m[\u001b[0m\u001b[0;34m'Southampton'\u001b[0m\u001b[0;34m,\u001b[0m \u001b[0;36m2\u001b[0m\u001b[0;34m,\u001b[0m \u001b[0;36m4\u001b[0m\u001b[0;34m,\u001b[0m \u001b[0;36m2\u001b[0m\u001b[0;34m,\u001b[0m \u001b[0;36m3\u001b[0m\u001b[0;34m,\u001b[0m \u001b[0;36m1\u001b[0m\u001b[0;34m]\u001b[0m\u001b[0;34m,\u001b[0m \u001b[0;34m[\u001b[0m\u001b[0;34m'Blackburn'\u001b[0m\u001b[0;34m,\u001b[0m \u001b[0;36m2\u001b[0m\u001b[0;34m,\u001b[0m \u001b[0;36m3\u001b[0m\u001b[0;34m,\u001b[0m \u001b[0;36m1\u001b[0m\u001b[0;34m,\u001b[0m \u001b[0;36m3\u001b[0m\u001b[0;34m,\u001b[0m \u001b[0;36m2\u001b[0m\u001b[0;34m]\u001b[0m\u001b[0;34m]\u001b[0m\u001b[0;34m\u001b[0m\u001b[0;34m\u001b[0m\u001b[0m\n\u001b[0m\u001b[1;32m      3\u001b[0m \u001b[0;34m\u001b[0m\u001b[0m\n\u001b[1;32m      4\u001b[0m \u001b[0mtable\u001b[0m \u001b[0;34m=\u001b[0m \u001b[0;34m[\u001b[0m\u001b[0;34m[\u001b[0m\u001b[0;34m'Arsenal'\u001b[0m\u001b[0;34m,\u001b[0m \u001b[0;36m1\u001b[0m\u001b[0;34m,\u001b[0m \u001b[0;36m1\u001b[0m\u001b[0;34m,\u001b[0m \u001b[0;36m0\u001b[0m\u001b[0;34m,\u001b[0m \u001b[0;36m4\u001b[0m\u001b[0;34m,\u001b[0m \u001b[0;36m4\u001b[0m\u001b[0;34m]\u001b[0m\u001b[0;34m,\u001b[0m \u001b[0;34m[\u001b[0m\u001b[0;34m'Liverpool'\u001b[0m\u001b[0;34m,\u001b[0m \u001b[0;36m1\u001b[0m\u001b[0;34m,\u001b[0m \u001b[0;36m1\u001b[0m\u001b[0;34m,\u001b[0m \u001b[0;36m0\u001b[0m\u001b[0;34m,\u001b[0m \u001b[0;36m5\u001b[0m\u001b[0;34m,\u001b[0m \u001b[0;36m5\u001b[0m\u001b[0;34m]\u001b[0m\u001b[0;34m]\u001b[0m\u001b[0;34m\u001b[0m\u001b[0;34m\u001b[0m\u001b[0m\n\u001b[1;32m      5\u001b[0m \u001b[0my\u001b[0m \u001b[0;34m=\u001b[0m \u001b[0msortTable\u001b[0m\u001b[0;34m(\u001b[0m\u001b[0mtable\u001b[0m\u001b[0;34m)\u001b[0m \u001b[0;34m==\u001b[0m \u001b[0;34m[\u001b[0m\u001b[0;34m[\u001b[0m\u001b[0;34m'Liverpool'\u001b[0m\u001b[0;34m,\u001b[0m \u001b[0;36m1\u001b[0m\u001b[0;34m,\u001b[0m \u001b[0;36m1\u001b[0m\u001b[0;34m,\u001b[0m \u001b[0;36m0\u001b[0m\u001b[0;34m,\u001b[0m \u001b[0;36m5\u001b[0m\u001b[0;34m,\u001b[0m \u001b[0;36m5\u001b[0m\u001b[0;34m]\u001b[0m\u001b[0;34m,\u001b[0m \u001b[0;34m[\u001b[0m\u001b[0;34m'Arsenal'\u001b[0m\u001b[0;34m,\u001b[0m \u001b[0;36m1\u001b[0m\u001b[0;34m,\u001b[0m \u001b[0;36m1\u001b[0m\u001b[0;34m,\u001b[0m \u001b[0;36m0\u001b[0m\u001b[0;34m,\u001b[0m \u001b[0;36m4\u001b[0m\u001b[0;34m,\u001b[0m \u001b[0;36m4\u001b[0m\u001b[0;34m]\u001b[0m\u001b[0;34m]\u001b[0m\u001b[0;34m\u001b[0m\u001b[0;34m\u001b[0m\u001b[0m\n",
            "\u001b[0;31mNameError\u001b[0m: name 'sortTable' is not defined"
          ]
        }
      ],
      "source": [
        "table = [['Blackburn', 2, 3, 1, 3, 2], ['Southampton', 2, 4, 2, 3, 1]]\n",
        "x = sortTable(table) == [['Southampton', 2, 4, 2, 3, 1], ['Blackburn', 2, 3, 1, 3, 2]]\n",
        "\n",
        "table = [['Arsenal', 1, 1, 0, 4, 4], ['Liverpool', 1, 1, 0, 5, 5]]\n",
        "y = sortTable(table) == [['Liverpool', 1, 1, 0, 5, 5], ['Arsenal', 1, 1, 0, 4, 4]]\n",
        "\n",
        "table = [['Leicester', 2, 0, -1, 1, 2], ['Newcastle', 1, 0, -1, 1, 2], ['Everton', 2, 0, -1, 1, 2],['Derby', 2, 0, -1, 1, 1], ['Liverpool', 1, 1, 0, 5, 5], ['Blackburn', 2, 3, 1, 3, 2], ['Chelsea', 2, 3, 0, 4, 4],\n",
        "         ['Arsenal', 1, 1, 0, 4, 4], ['Southampton', 2, 4, 2, 3, 1]]\n",
        "z = sortTable(table) == [['Southampton', 2, 4, 2, 3, 1], ['Blackburn', 2, 3, 1, 3, 2], ['Chelsea', 2, 3, 0, 4, 4], ['Liverpool', 1, 1, 0, 5, 5], ['Arsenal', 1, 1, 0, 4, 4], ['Derby', 2, 0, -1, 1, 1], ['Everton', 2, 0, -1, 1, 2], ['Leicester', 2, 0, -1, 1, 2], ['Newcastle', 1, 0, -1, 1, 2]]\n",
        "\n",
        "print(x)\n",
        "print(y)\n",
        "print(z)\n"
      ]
    },
    {
      "cell_type": "markdown",
      "metadata": {
        "id": "VGu4-4YOzSS0"
      },
      "source": [
        "Test toString:"
      ]
    },
    {
      "cell_type": "code",
      "execution_count": null,
      "metadata": {
        "id": "-CT5m0ZbzSS0",
        "outputId": "95facdf4-3ee3-43c7-abe7-63ddffa9c20c"
      },
      "outputs": [
        {
          "name": "stdout",
          "output_type": "stream",
          "text": [
            "True\n",
            "True\n"
          ]
        }
      ],
      "source": [
        "table = [['Stoke', 2, 0, -1, 1, 2], ['Newcastle', 1, 0, -1, 1, 2], ['Everton', 2, 0, -1, 1, 2],\n",
        "                 ['ManCity', 2, 0, -1, 1, 1]]\n",
        "\n",
        "x = (toString(table) == \"Team        |Pld|Pts|Dif|For|Agst|\" + \"\\n\" + \"Stoke       |  2|  0| -1|  1|   2|\" + \"\\n\" + \"Newcastle   |  1|  0| -1|  1|   2|\" + \"\\n\" + \"Everton     |  2|  0| -1|  1|   2|\" + \"\\n\" +\"ManCity     |  2|  0| -1|  1|   1|\" + \"\\n\")\n",
        "print(x)\n",
        "\n",
        "table = [['Stoke', 2, 0, -1, 1, 2], ['Newcastle', 1, 0, -1, 1, 2], ['Everton', 2, 0, -1, 1, 2],\n",
        "                 ['Derby', 2, 0, -1, 1, 1], ['Liverpool', 1, 1, 0, 5, 5], ['Leicester', 2, 3, 1, 3, 2], ['Chelsea', 2, 3, 0, 4, 4],\n",
        "                 ['Arsenal', 1, 1, 0, 4, 4], ['Southampton', 2, 4, 2, 3, 1]]\n",
        "expected = \"Team        |Pld|Pts|Dif|For|Agst|\" + \"\\n\" +\"Stoke       |  2|  0| -1|  1|   2|\" + \"\\n\" +\"Newcastle   |  1|  0| -1|  1|   2|\" + \"\\n\" +\"Everton     |  2|  0| -1|  1|   2|\" + \"\\n\" +\"Derby       |  2|  0| -1|  1|   1|\" + \"\\n\" +\"Liverpool   |  1|  1|  0|  5|   5|\" + \"\\n\" +\"Leicester   |  2|  3|  1|  3|   2|\" + \"\\n\" +\"Chelsea     |  2|  3|  0|  4|   4|\" + \"\\n\" +\"Arsenal     |  1|  1|  0|  4|   4|\" + \"\\n\" +\"Southampton |  2|  4|  2|  3|   1|\" + \"\\n\"\n",
        "print(expected == toString(table))\n",
        "\n"
      ]
    },
    {
      "cell_type": "markdown",
      "metadata": {
        "id": "10gIosqKzSS1"
      },
      "source": [
        "Test match (no error cases. You must test the error cases by yourself):"
      ]
    },
    {
      "cell_type": "code",
      "execution_count": null,
      "metadata": {
        "id": "i_s5M8nJzSS1",
        "outputId": "ddb45c16-ac28-46eb-a245-1df7b1860786"
      },
      "outputs": [
        {
          "name": "stdout",
          "output_type": "stream",
          "text": [
            "True\n",
            "True\n",
            "True\n"
          ]
        }
      ],
      "source": [
        "table = [['Stoke', 2, 0, -1, 1, 2], ['Newcastle', 1, 0, -1, 1, 2], ['Everton', 2, 0, -1, 1, 2],\n",
        "                 ['Derby', 2, 0, -1, 1, 1], ['Liverpool', 1, 1, 0, 5, 5]]\n",
        "table = match(table, \"Newcastle\", \"Liverpool\", 3, 1)\n",
        "expected = [['Newcastle', 2, 3, 1, 4, 3], ['Liverpool', 2, 1, -2, 6, 8], ['Derby', 2, 0, -1, 1, 1], ['Everton', 2, 0, -1, 1, 2], ['Stoke', 2, 0, -1, 1, 2]]\n",
        "print(expected == table)\n",
        "\n",
        "table = [['Stoke', 2, 0, -1, 1, 2], ['Newcastle', 1, 0, -1, 1, 2], ['Chelsea', 2, 3, 0, 4, 4],\n",
        "             ['Arsenal', 1, 1, 0, 4, 4], ['Southampton', 2, 4, 2, 3, 1]]\n",
        "table = match(table, \"Arsenal\", \"Chelsea\", 2, 4)\n",
        "expected = [['Chelsea', 3, 6, 2, 8, 6], ['Southampton', 2, 4, 2, 3, 1], ['Arsenal', 2, 1, -2, 6, 8], ['Newcastle', 1, 0, -1, 1, 2], ['Stoke', 2, 0, -1, 1, 2]]\n",
        "print(expected == table)\n",
        "\n",
        "table = [['Stoke', 2, 0, -1, 1, 2], ['Newcastle', 1, 0, -1, 1, 2], ['Chelsea', 2, 3, 0, 4, 4],\n",
        "             ['Arsenal', 1, 1, 0, 4, 4], ['Southampton', 2, 4, 2, 3, 1]]\n",
        "table = match(table, \"Arsenal\", \"Chelsea\", 2, 2)\n",
        "expected = [['Southampton', 2, 4, 2, 3, 1], ['Chelsea', 3, 4, 0, 6, 6], ['Arsenal', 2, 2, 0, 6, 6], ['Newcastle', 1, 0, -1, 1, 2], ['Stoke', 2, 0, -1, 1, 2]]\n",
        "print(expected == table)\n",
        "\n"
      ]
    },
    {
      "cell_type": "markdown",
      "metadata": {
        "id": "6G9Yb_VSzSS2"
      },
      "source": [
        "Test changePoint:"
      ]
    },
    {
      "cell_type": "code",
      "execution_count": null,
      "metadata": {
        "id": "B9SBE63TzSS2",
        "outputId": "9075ee54-39d9-4688-8849-ad608fd98d91"
      },
      "outputs": [
        {
          "name": "stdout",
          "output_type": "stream",
          "text": [
            "True\n",
            "True\n",
            "True\n"
          ]
        }
      ],
      "source": [
        "table = [['Liverpool', 1, 1, 0, 5, 5], ['Blackburn', 2, 3, 1, 3, 2], ['Chelsea', 2, 3, 0, 4, 4],\n",
        "                 ['Arsenal', 1, 1, 0, 4, 4], ['Southampton', 2, 4, 2, 3, 1]]\n",
        "table = changePoint(table, \"Arsenal\", 5)\n",
        "expected = [['Arsenal', 1, 6, 0, 4, 4], ['Southampton', 2, 4, 2, 3, 1], ['Blackburn', 2, 3, 1, 3, 2], ['Chelsea', 2, 3, 0, 4, 4], ['Liverpool', 1, 1, 0, 5, 5]]\n",
        "print(table == expected)\n",
        "\n",
        "table = [['Liverpool', 1, 1, 0, 5, 5], ['Blackburn', 2, 3, 1, 3, 2], ['Chelsea', 2, 3, 0, 4, 4],\n",
        "             ['Arsenal', 1, 1, 0, 4, 4], ['Southampton', 2, 4, 2, 3, 1]]\n",
        "table = changePoint(table, \"Southampton\", -3)\n",
        "expected = [['Blackburn', 2, 3, 1, 3, 2], ['Chelsea', 2, 3, 0, 4, 4], ['Southampton', 2, 1, 2, 3, 1], ['Liverpool', 1, 1, 0, 5, 5], ['Arsenal', 1, 1, 0, 4, 4]]\n",
        "print(table == expected)\n",
        "\n",
        "table = [['Liverpool', 1, 1, 0, 5, 5], ['Blackburn', 2, 3, 1, 3, 2], ['Chelsea', 2, 3, 0, 4, 4],\n",
        "             ['Arsenal', 1, 1, 0, 4, 4], ['Southampton', 2, 4, 2, 3, 1]]\n",
        "table = changePoint(table, \"Leicester\", -3)\n",
        "expected = [['Southampton', 2, 4, 2, 3, 1], ['Blackburn', 2, 3, 1, 3, 2], ['Chelsea', 2, 3, 0, 4, 4], ['Liverpool', 1, 1, 0, 5, 5], ['Arsenal', 1, 1, 0, 4, 4]]\n",
        "print(table == expected)\n",
        "\n"
      ]
    },
    {
      "cell_type": "markdown",
      "metadata": {
        "id": "LoNPyGSVzSS2"
      },
      "source": [
        "Test removeTeams:"
      ]
    },
    {
      "cell_type": "code",
      "execution_count": null,
      "metadata": {
        "id": "Oli4HychzSS2",
        "outputId": "30a4f6cd-dafd-454e-e097-177783f98f1d"
      },
      "outputs": [
        {
          "name": "stdout",
          "output_type": "stream",
          "text": [
            "True\n",
            "True\n",
            "True\n",
            "True\n"
          ]
        }
      ],
      "source": [
        "table = [['Liverpool', 1, 1, 0, 5, 5], ['Blackburn', 2, 3, 1, 3, 2], ['Chelsea', 2, 3, 0, 4, 4], ['Arsenal', 1, 1, 0, 4, 4], ['Southampton', 2, 4, 2, 3, 1]]\n",
        "table = removeTeams(table, [\"Blackburn\", \"Arsenal\", \"Liverpool\"])\n",
        "expected = [['Southampton', 2, 4, 2, 3, 1], ['Chelsea', 2, 3, 0, 4, 4]]\n",
        "print(table == expected)\n",
        "\n",
        "table = [['Liverpool', 1, 1, 0, 5, 5], ['Blackburn', 2, 3, 1, 3, 2], ['Chelsea', 2, 3, 0, 4, 4], ['Arsenal', 1, 1, 0, 4, 4], ['Southampton', 2, 4, 2, 3, 1]]\n",
        "table = removeTeams(table, [\"Blackburn\", \"Chelsea\", \"Arsenal\"])\n",
        "expected = [['Southampton', 2, 4, 2, 3, 1], ['Liverpool', 1, 1, 0, 5, 5]]\n",
        "print(table == expected)\n",
        "\n",
        "table = [['Liverpool', 1, 1, 0, 5, 5], ['Blackburn', 2, 3, 1, 3, 2], ['Chelsea', 2, 3, 0, 4, 4], ['Arsenal', 1, 1, 0, 4, 4], ['Southampton', 2, 4, 2, 3, 1]]\n",
        "table = removeTeams(table, [\"Arsenal\", \"Blackburn\"])\n",
        "expected = [['Southampton', 2, 4, 2, 3, 1], ['Chelsea', 2, 3, 0, 4, 4], ['Liverpool', 1, 1, 0, 5, 5]]\n",
        "print(table == expected)\n",
        "\n",
        "table = [['Liverpool', 1, 1, 0, 5, 5], ['Blackburn', 2, 3, 1, 3, 2], ['Chelsea', 2, 3, 0, 4, 4], ['Arsenal', 1, 1, 0, 4, 4], ['Southampton', 2, 4, 2, 3, 1]]\n",
        "table = removeTeams(table, [\"ManU\", \"Blackburn\"])\n",
        "expected = [['Southampton', 2, 4, 2, 3, 1], ['Chelsea', 2, 3, 0, 4, 4], ['Liverpool', 1, 1, 0, 5, 5], ['Arsenal', 1, 1, 0, 4, 4]]\n",
        "print(table == expected)\n",
        "\n"
      ]
    },
    {
      "cell_type": "markdown",
      "metadata": {
        "id": "_O2eRwHJzSS3"
      },
      "source": [
        "Test addTeams:"
      ]
    },
    {
      "cell_type": "code",
      "execution_count": null,
      "metadata": {
        "id": "Q0m9zAVAzSS4",
        "outputId": "98818852-bc95-410f-e462-3a6f07fec5d9"
      },
      "outputs": [
        {
          "name": "stdout",
          "output_type": "stream",
          "text": [
            "True\n"
          ]
        }
      ],
      "source": [
        "table = [['Newcastle', 1, 0, -1, 1, 2], ['Everton', 2, 0, -1, 1, 2], ['Derby', 2, 0, -1, 1, 1], ['Blackburn', 2, 3, 1, 3, 2], ['Chelsea', 2, 3, 0, 4, 4]]\n",
        "table = addTeams(table, [\"Southampton\", \"Arsenal\", \"Liverpool\"])\n",
        "expected = [['Blackburn', 2, 3, 1, 3, 2], ['Chelsea', 2, 3, 0, 4, 4], ['Arsenal', 0, 0, 0, 0, 0], ['Liverpool', 0, 0, 0, 0, 0], ['Southampton', 0, 0, 0, 0, 0], ['Derby', 2, 0, -1, 1, 1], ['Everton', 2, 0, -1, 1, 2], ['Newcastle', 1, 0, -1, 1, 2]]\n",
        "print(table == expected)\n",
        "\n",
        "\n"
      ]
    },
    {
      "cell_type": "raw",
      "metadata": {
        "id": "RkeJEMLLzSS4"
      },
      "source": [
        "Test resetTable:"
      ]
    },
    {
      "cell_type": "code",
      "execution_count": null,
      "metadata": {
        "id": "pyv-jQu8zSS4",
        "outputId": "12fcd90f-ae7e-447e-9532-c9008718932a"
      },
      "outputs": [
        {
          "name": "stdout",
          "output_type": "stream",
          "text": [
            "True\n"
          ]
        }
      ],
      "source": [
        "table = [['Stoke', 2, 0, -1, 1, 2], ['Newcastle', 1, 0, -1, 1, 2], ['Everton', 2, 0, -1, 1, 2], ['Derby', 2, 0, -1, 1, 1]]\n",
        "table = resetTable(table)\n",
        "expected = [['Derby', 0, 0, 0, 0, 0], ['Everton', 0, 0, 0, 0, 0], ['Newcastle', 0, 0, 0, 0, 0], ['Stoke', 0, 0, 0, 0, 0]]\n",
        "print(table == expected)\n"
      ]
    },
    {
      "cell_type": "raw",
      "metadata": {
        "id": "kCxSiAntzSS5"
      },
      "source": [
        "Test loadFile: (please prepare the file table.txt in advance)"
      ]
    },
    {
      "cell_type": "code",
      "execution_count": null,
      "metadata": {
        "id": "lcqOsZ6DzSS5",
        "outputId": "b91472d7-e218-4568-fc03-d29993c371d3"
      },
      "outputs": [
        {
          "name": "stdout",
          "output_type": "stream",
          "text": [
            "True\n"
          ]
        }
      ],
      "source": [
        "table = loadFile(\"table.txt\")\n",
        "expected = [['Blackburn', 2, 3, 1, 3, 2], ['Southampton', 1, 3, 1, 2, 1], ['Chelsea', 2, 3, -1, 3, 4], ['Arsenal', 1, 1, 0, 4, 4], ['Liverpool', 1, 1, 0, 4, 4], ['Everton', 1, 0, -1, 1, 2]]\n",
        "print(table == expected)\n"
      ]
    },
    {
      "cell_type": "code",
      "execution_count": null,
      "metadata": {
        "id": "M8Qzg48dzSS5"
      },
      "outputs": [],
      "source": []
    },
    {
      "cell_type": "code",
      "execution_count": null,
      "metadata": {
        "id": "9-axqdBezSS5"
      },
      "outputs": [],
      "source": []
    },
    {
      "cell_type": "code",
      "execution_count": null,
      "metadata": {
        "id": "FPF_-PXczSS5"
      },
      "outputs": [],
      "source": []
    }
  ],
  "metadata": {
    "colab": {
      "provenance": []
    },
    "kernelspec": {
      "display_name": "Python 3 (ipykernel)",
      "language": "python",
      "name": "python3"
    },
    "language_info": {
      "codemirror_mode": {
        "name": "ipython",
        "version": 3
      },
      "file_extension": ".py",
      "mimetype": "text/x-python",
      "name": "python",
      "nbconvert_exporter": "python",
      "pygments_lexer": "ipython3",
      "version": "3.11.4"
    }
  },
  "nbformat": 4,
  "nbformat_minor": 0
}