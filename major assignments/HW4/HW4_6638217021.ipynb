{
  "cells": [
    {
      "cell_type": "markdown",
      "metadata": {
        "id": "xaO6ydwuTSae"
      },
      "source": [
        "# Assignment #4: NumPy + Tuple, Set, Dict\n",
        "\n",
        "\n"
      ]
    },
    {
      "cell_type": "markdown",
      "metadata": {
        "id": "tZly7h79NP4H"
      },
      "source": [
        "### In this assignment, we will practice on NumPy, Tuple, Set, Dict using social network use case.\n",
        "\n",
        "**Please read the explanation in [here](https://drive.google.com/file/d/13h-wDYixvxn2er8zO13z4_hNgcT6S7nt/view?usp=share_link).**"
      ]
    },
    {
      "cell_type": "markdown",
      "metadata": {
        "id": "YAq-m9r53V0E"
      },
      "source": [
        "# **Important**\n",
        "- Do not delete or modify the first line in the given code cell.\n",
        "- You work must be add in the provided area only.\n",
        "- You must not change the declaration of the provided functions.\n",
        "- You are allowed to add your own functions.\n",
        "- If you want to write your own program to test, add new code cell at the very end of the file and add your code there.\n"
      ]
    },
    {
      "cell_type": "code",
      "execution_count": null,
      "metadata": {
        "id": "3-zuAAWzWzyu"
      },
      "outputs": [],
      "source": [
        "import numpy as np"
      ]
    },
    {
      "cell_type": "code",
      "execution_count": 1,
      "metadata": {
        "id": "_WCeLTUWcQPT"
      },
      "outputs": [],
      "source": [
        "# DO NOTE DELETE THIS CELL / WRITE YOUR CODE HERE\n",
        "# Function 1\n",
        "\n",
        "def generate_followed_by_dict(infile):\n",
        "    # write your code here\n",
        "    followed_by = {}\n",
        "    f = open(infile, \"r\")\n",
        "    s = f.readlines()\n",
        "    for i in range(len(s)):\n",
        "        s[i] = s[i].strip('\\n').split(',')\n",
        "        followed_by[s[i][0]] = s[i][1:]\n",
        "\n",
        "\n",
        "    return followed_by"
      ]
    },
    {
      "cell_type": "code",
      "execution_count": 2,
      "metadata": {
        "id": "i-ag1K690HGa"
      },
      "outputs": [],
      "source": [
        "# DO NOTE DELETE THIS CELL / WRITE YOUR CODE HERE\n",
        "# Function 2\n",
        "\n",
        "def generate_followed_by_matrix(followed_by_dict):\n",
        "    # write your code here\n",
        "    person_names = list(followed_by_dict.keys())\n",
        "    for i in followed_by_dict:\n",
        "        for j in followed_by_dict[i]:\n",
        "            if j not in person_names:\n",
        "                # print(j)\n",
        "                person_names.append(j)\n",
        "    person_names = sorted(person_names)\n",
        "\n",
        "    for name in person_names:\n",
        "        if name not in followed_by_dict:\n",
        "            followed_by_dict[name] = []\n",
        "\n",
        "    followed_by_dict2 = {}\n",
        "    for k, v in sorted(followed_by_dict.items()):\n",
        "        followed_by_dict2[k] = v\n",
        "\n",
        "    n = len(person_names)\n",
        "\n",
        "    matrix = np.zeros((n, n), dtype = int)\n",
        "    for k, v in followed_by_dict.items():\n",
        "        for i in v:\n",
        "            matrix[person_names.index(k)][person_names.index(i)] = 1\n",
        "            #print(str(k),end='')\n",
        "            #print(person_names.index(i))\n",
        "\n",
        "    return matrix, person_names\n"
      ]
    },
    {
      "cell_type": "code",
      "execution_count": 3,
      "metadata": {
        "id": "_xds654Yw6Ff"
      },
      "outputs": [],
      "source": [
        "# DO NOTE DELETE THIS CELL / WRITE YOUR CODE HERE\n",
        "# Function 3\n",
        "\n",
        "def generate_degree_matrix(A):\n",
        "    # write your code here\n",
        "    total = np.sum(A, axis=1)\n",
        "    #print(total)\n",
        "    degree_matrix = np.zeros_like(A)\n",
        "    for i in range(A.shape[0]):\n",
        "        degree_matrix[i][i] = total[i]\n",
        "\n",
        "    return degree_matrix\n",
        "\n"
      ]
    },
    {
      "cell_type": "code",
      "execution_count": 4,
      "metadata": {
        "id": "mZT3meYFZeXa"
      },
      "outputs": [],
      "source": [
        "# DO NOTE DELETE THIS CELL / WRITE YOUR CODE HERE\n",
        "# Function 4\n",
        "\n",
        "def get_top_influencer(M, person_names):\n",
        "    # write your code here\n",
        "    degree_matrix = generate_degree_matrix(M)\n",
        "    top = np.max(degree_matrix)\n",
        "    #print(top)\n",
        "    top_list = []\n",
        "    for i in range(degree_matrix.shape[0]):\n",
        "        if degree_matrix[i][i] == top:\n",
        "            top_list.append(person_names[i])\n",
        "\n",
        "    return top_list\n",
        "\n"
      ]
    },
    {
      "cell_type": "code",
      "execution_count": 5,
      "metadata": {
        "id": "-eBjntKTjiVn"
      },
      "outputs": [],
      "source": [
        "# DO NOTE DELETE THIS CELL / WRITE YOUR CODE HERE\n",
        "# Function 5\n",
        "\n",
        "def generate_similarity_matrix_among_influencers(M, person_names):\n",
        "    # write your code here\n",
        "    n = M.shape[0]\n",
        "    #print(n)\n",
        "    for i in reversed(range(n)):\n",
        "        isZero = M[i]==0\n",
        "        if all([x for x in isZero == True]):\n",
        "            M = np.delete(M, (i), axis=0)\n",
        "            person_names.pop(i)\n",
        "    #print(person_names)\n",
        "    #print(M)\n",
        "    N = np.zeros_like(M, float)\n",
        "\n",
        "    n = M.shape[0]\n",
        "    for i in range(n):\n",
        "        for j in range(n):\n",
        "            if i == j:\n",
        "                continue\n",
        "            #print(person_names[i], person_names[j])\n",
        "            a = np.sum(M[i])\n",
        "            b = np.sum(M[j])\n",
        "            #print(a, b)\n",
        "            C = (M[i] + M[j])\n",
        "            C = C[C == 2]\n",
        "            c = len(C)\n",
        "            #print(c)\n",
        "            N[i][j] = round(c/(a+b-c), 2)\n",
        "            #print(M[i][j])\n",
        "            #print('----')\n",
        "\n",
        "    N = N[:, :N.shape[0]]\n",
        "    return N, person_names\n"
      ]
    },
    {
      "cell_type": "code",
      "execution_count": 6,
      "metadata": {
        "id": "PkjAA2hw-I1i"
      },
      "outputs": [],
      "source": [
        "# DO NOTE DELETE THIS CELL / WRITE YOUR CODE HERE\n",
        "# Function 6\n",
        "\n",
        "def  get_all_pairs_of_most_similar_influencers(S, only_influencers):\n",
        "    # write your code here\n",
        "    n = S.shape[0]\n",
        "    max = np.max(S)\n",
        "    pairs = []\n",
        "    for i in range(n):\n",
        "        for j in range(i+1, n):\n",
        "            if S[i, j] == max:\n",
        "                pairs.append((only_influencers[i], only_influencers[j]))\n",
        "\n",
        "    return pairs\n"
      ]
    },
    {
      "cell_type": "markdown",
      "metadata": {
        "id": "NrVMmZ2BcQPV"
      },
      "source": [
        "### --- Testcase 1 --- ###\n",
        "#### You can get infile_1.txt from [here](https://drive.google.com/file/d/1-JO6bfUHy4G_Y1ouAYmap5SgBgZgds87/view?usp=share_link) ####"
      ]
    },
    {
      "cell_type": "code",
      "execution_count": null,
      "metadata": {
        "id": "vv2IXt5OcQPV"
      },
      "outputs": [],
      "source": [
        "# Testcase 1\n",
        "# link to get infile_1.txt\n",
        "followed_by_dict = generate_followed_by_dict(\"infile_1.txt\")\n",
        "print(followed_by_dict)\n",
        "M, person_names = generate_followed_by_matrix(followed_by_dict)\n",
        "print(\"M = \", M)\n",
        "print(\"person_names\", person_names)\n",
        "D = generate_degree_matrix(M)\n",
        "print(\"D = \", D)\n",
        "print(\"top influencers = \", get_top_influencer(M, person_names))\n",
        "S, all_influencers = generate_similarity_matrix_among_influencers(M, person_names)\n",
        "print(\"similarity_matrix = \", S)\n",
        "print(all_influencers)\n",
        "\n",
        "pairs = get_all_pairs_of_most_similar_influencers(S, all_influencers)\n",
        "print(pairs)"
      ]
    },
    {
      "cell_type": "markdown",
      "metadata": {
        "id": "DWYfWOzwcQPV"
      },
      "source": [
        "#### Expected output of Testcase 1 ####"
      ]
    },
    {
      "cell_type": "markdown",
      "metadata": {
        "id": "3PCqqFtCcQPW"
      },
      "source": [
        "{'A': ['E'], 'B': ['A', 'D'], 'C': ['E', 'B'], 'D': ['A', 'E']}\n",
        "M =  [[0 0 0 0 1]\n",
        " [1 0 0 1 0]\n",
        " [0 1 0 0 1]\n",
        " [1 0 0 0 1]\n",
        " [0 0 0 0 0]]\n",
        "person_names ['A', 'B', 'C', 'D', 'E']\n",
        "D =  [[1 0 0 0 0]\n",
        " [0 2 0 0 0]\n",
        " [0 0 2 0 0]\n",
        " [0 0 0 2 0]\n",
        " [0 0 0 0 0]]\n",
        "top influencers =  ['B', 'C', 'D']\n",
        "similarity_matrix =  [[0.   0.   0.5  0.5 ]\n",
        " [0.   0.   0.   0.33]\n",
        " [0.5  0.   0.   0.33]\n",
        " [0.5  0.33 0.33 0.  ]]\n",
        "['A' 'B' 'C' 'D']\n",
        "[('A', 'C'), ('A', 'D')]"
      ]
    },
    {
      "cell_type": "markdown",
      "metadata": {
        "id": "PC9GV2YxcQPW"
      },
      "source": [
        "### --- Testcase 2 --- ###\n",
        "#### You can get infile_2.txt from [here](https://drive.google.com/file/d/1CPhOVlGJTbGTjmXYBSZ7ksnrAbt7YGyP/view?usp=share_link) ####"
      ]
    },
    {
      "cell_type": "code",
      "execution_count": 7,
      "metadata": {
        "id": "ktXXyyc_cQPW",
        "colab": {
          "base_uri": "https://localhost:8080/",
          "height": 376
        },
        "outputId": "0631aeaf-383d-4102-da34-f9fecaa0a4fb"
      },
      "outputs": [
        {
          "output_type": "error",
          "ename": "FileNotFoundError",
          "evalue": "ignored",
          "traceback": [
            "\u001b[0;31m---------------------------------------------------------------------------\u001b[0m",
            "\u001b[0;31mFileNotFoundError\u001b[0m                         Traceback (most recent call last)",
            "\u001b[0;32m<ipython-input-7-a33f1658a7e9>\u001b[0m in \u001b[0;36m<cell line: 2>\u001b[0;34m()\u001b[0m\n\u001b[1;32m      1\u001b[0m \u001b[0;31m# Testcase 2\u001b[0m\u001b[0;34m\u001b[0m\u001b[0;34m\u001b[0m\u001b[0m\n\u001b[0;32m----> 2\u001b[0;31m \u001b[0mfollowed_by_dict\u001b[0m \u001b[0;34m=\u001b[0m \u001b[0mgenerate_followed_by_dict\u001b[0m\u001b[0;34m(\u001b[0m\u001b[0;34m\"infile_2.txt\"\u001b[0m\u001b[0;34m)\u001b[0m\u001b[0;34m\u001b[0m\u001b[0;34m\u001b[0m\u001b[0m\n\u001b[0m\u001b[1;32m      3\u001b[0m \u001b[0mprint\u001b[0m\u001b[0;34m(\u001b[0m\u001b[0mfollowed_by_dict\u001b[0m\u001b[0;34m)\u001b[0m\u001b[0;34m\u001b[0m\u001b[0;34m\u001b[0m\u001b[0m\n\u001b[1;32m      4\u001b[0m \u001b[0mM\u001b[0m\u001b[0;34m,\u001b[0m \u001b[0mperson_names\u001b[0m \u001b[0;34m=\u001b[0m \u001b[0mgenerate_followed_by_matrix\u001b[0m\u001b[0;34m(\u001b[0m\u001b[0mfollowed_by_dict\u001b[0m\u001b[0;34m)\u001b[0m\u001b[0;34m\u001b[0m\u001b[0;34m\u001b[0m\u001b[0m\n\u001b[1;32m      5\u001b[0m \u001b[0mprint\u001b[0m\u001b[0;34m(\u001b[0m\u001b[0;34m\"M = \"\u001b[0m\u001b[0;34m,\u001b[0m \u001b[0mM\u001b[0m\u001b[0;34m)\u001b[0m\u001b[0;34m\u001b[0m\u001b[0;34m\u001b[0m\u001b[0m\n",
            "\u001b[0;32m<ipython-input-1-095d5d935c23>\u001b[0m in \u001b[0;36mgenerate_followed_by_dict\u001b[0;34m(infile)\u001b[0m\n\u001b[1;32m      5\u001b[0m     \u001b[0;31m# write your code here\u001b[0m\u001b[0;34m\u001b[0m\u001b[0;34m\u001b[0m\u001b[0m\n\u001b[1;32m      6\u001b[0m     \u001b[0mfollowed_by\u001b[0m \u001b[0;34m=\u001b[0m \u001b[0;34m{\u001b[0m\u001b[0;34m}\u001b[0m\u001b[0;34m\u001b[0m\u001b[0;34m\u001b[0m\u001b[0m\n\u001b[0;32m----> 7\u001b[0;31m     \u001b[0mf\u001b[0m \u001b[0;34m=\u001b[0m \u001b[0mopen\u001b[0m\u001b[0;34m(\u001b[0m\u001b[0minfile\u001b[0m\u001b[0;34m,\u001b[0m \u001b[0;34m\"r\"\u001b[0m\u001b[0;34m)\u001b[0m\u001b[0;34m\u001b[0m\u001b[0;34m\u001b[0m\u001b[0m\n\u001b[0m\u001b[1;32m      8\u001b[0m     \u001b[0ms\u001b[0m \u001b[0;34m=\u001b[0m \u001b[0mf\u001b[0m\u001b[0;34m.\u001b[0m\u001b[0mreadlines\u001b[0m\u001b[0;34m(\u001b[0m\u001b[0;34m)\u001b[0m\u001b[0;34m\u001b[0m\u001b[0;34m\u001b[0m\u001b[0m\n\u001b[1;32m      9\u001b[0m     \u001b[0;32mfor\u001b[0m \u001b[0mi\u001b[0m \u001b[0;32min\u001b[0m \u001b[0mrange\u001b[0m\u001b[0;34m(\u001b[0m\u001b[0mlen\u001b[0m\u001b[0;34m(\u001b[0m\u001b[0ms\u001b[0m\u001b[0;34m)\u001b[0m\u001b[0;34m)\u001b[0m\u001b[0;34m:\u001b[0m\u001b[0;34m\u001b[0m\u001b[0;34m\u001b[0m\u001b[0m\n",
            "\u001b[0;31mFileNotFoundError\u001b[0m: [Errno 2] No such file or directory: 'infile_2.txt'"
          ]
        }
      ],
      "source": [
        "# Testcase 2\n",
        "followed_by_dict = generate_followed_by_dict(\"infile_2.txt\")\n",
        "print(followed_by_dict)\n",
        "M, person_names = generate_followed_by_matrix(followed_by_dict)\n",
        "print(\"M = \", M)\n",
        "print(\"person_names\", person_names)\n",
        "D = generate_degree_matrix(M)\n",
        "print(\"D = \", D)\n",
        "print(\"top influencers = \", get_top_influencer(M, person_names))\n",
        "SM, all_influencers = generate_similarity_matrix_among_influencers(M, person_names)\n",
        "print(\"similarity_matrix = \", SM)\n",
        "print(all_influencers)\n",
        "\n",
        "pairs = get_all_pairs_of_most_similar_influencers(SM, all_influencers)\n",
        "print(pairs)"
      ]
    },
    {
      "cell_type": "markdown",
      "metadata": {
        "id": "7xjpDE_GcQPW"
      },
      "source": [
        "#### Expected output of Testcase 2 ####"
      ]
    },
    {
      "cell_type": "markdown",
      "metadata": {
        "id": "DN_KtUIFcQPW"
      },
      "source": [
        "{'A': ['B', 'C', 'D', 'E'], 'Q': ['F', 'H', 'I']}\n",
        "M =  [[0 1 1 1 1 0 0 0 0]\n",
        " [0 0 0 0 0 0 0 0 0]\n",
        " [0 0 0 0 0 0 0 0 0]\n",
        " [0 0 0 0 0 0 0 0 0]\n",
        " [0 0 0 0 0 0 0 0 0]\n",
        " [0 0 0 0 0 0 0 0 0]\n",
        " [0 0 0 0 0 0 0 0 0]\n",
        " [0 0 0 0 0 0 0 0 0]\n",
        " [0 0 0 0 0 1 1 1 0]]\n",
        "person_names ['A', 'B', 'C', 'D', 'E', 'F', 'H', 'I', 'Q']\n",
        "D =  [[4 0 0 0 0 0 0 0 0]\n",
        " [0 0 0 0 0 0 0 0 0]\n",
        " [0 0 0 0 0 0 0 0 0]\n",
        " [0 0 0 0 0 0 0 0 0]\n",
        " [0 0 0 0 0 0 0 0 0]\n",
        " [0 0 0 0 0 0 0 0 0]\n",
        " [0 0 0 0 0 0 0 0 0]\n",
        " [0 0 0 0 0 0 0 0 0]\n",
        " [0 0 0 0 0 0 0 0 3]]\n",
        "top influencers =  ['A']\n",
        "similarity_matrix =  [[0. 0.]\n",
        " [0. 0.]]\n",
        "['A' 'Q']\n",
        "[]"
      ]
    },
    {
      "cell_type": "markdown",
      "metadata": {
        "id": "h-FW-A8ccQPX"
      },
      "source": [
        "### --- Testcase 3 --- ###\n",
        "#### You can get infile_3.txt from [here](https://drive.google.com/file/d/1Xwe48zFV43s7nAkmtEqVWdXoAlTswLkI/view?usp=share_link) ####"
      ]
    },
    {
      "cell_type": "code",
      "execution_count": null,
      "metadata": {
        "id": "Au-Bddn5cQPX"
      },
      "outputs": [],
      "source": [
        "# Testcase 3\n",
        "followed_by_dict = generate_followed_by_dict(\"infile_3.txt\")\n",
        "print(followed_by_dict)\n",
        "M, person_names = generate_followed_by_matrix(followed_by_dict)\n",
        "print(\"M = \", M)\n",
        "print(\"person_names\", person_names)\n",
        "D = generate_degree_matrix(M)\n",
        "print(\"D = \", D)\n",
        "print(\"top influencers = \", get_top_influencer(M, person_names))\n",
        "SM, all_influencers = generate_similarity_matrix_among_influencers(M, person_names)\n",
        "print(\"similarity_matrix = \", SM)\n",
        "print(all_influencers)\n",
        "\n",
        "pairs = get_all_pairs_of_most_similar_influencers(SM, all_influencers)\n",
        "print(pairs)"
      ]
    },
    {
      "cell_type": "markdown",
      "metadata": {
        "id": "5WrB16tzcQPX"
      },
      "source": [
        "#### Expected output of Testcase 3 ####"
      ]
    },
    {
      "cell_type": "markdown",
      "metadata": {
        "id": "WZwMuS5ccQPX"
      },
      "source": [
        "{'A': ['B', 'C', 'D', 'E', 'Q'], 'Q': ['F', 'H', 'I', 'A'], 'R': ['B', 'C', 'D', 'E', 'A']}\n",
        "M =  [[0 1 1 1 1 0 0 0 1 0]\n",
        " [0 0 0 0 0 0 0 0 0 0]\n",
        " [0 0 0 0 0 0 0 0 0 0]\n",
        " [0 0 0 0 0 0 0 0 0 0]\n",
        " [0 0 0 0 0 0 0 0 0 0]\n",
        " [0 0 0 0 0 0 0 0 0 0]\n",
        " [0 0 0 0 0 0 0 0 0 0]\n",
        " [0 0 0 0 0 0 0 0 0 0]\n",
        " [1 0 0 0 0 1 1 1 0 0]\n",
        " [1 1 1 1 1 0 0 0 0 0]]\n",
        "person_names ['A', 'B', 'C', 'D', 'E', 'F', 'H', 'I', 'Q', 'R']\n",
        "D =  [[5 0 0 0 0 0 0 0 0 0]\n",
        " [0 0 0 0 0 0 0 0 0 0]\n",
        " [0 0 0 0 0 0 0 0 0 0]\n",
        " [0 0 0 0 0 0 0 0 0 0]\n",
        " [0 0 0 0 0 0 0 0 0 0]\n",
        " [0 0 0 0 0 0 0 0 0 0]\n",
        " [0 0 0 0 0 0 0 0 0 0]\n",
        " [0 0 0 0 0 0 0 0 0 0]\n",
        " [0 0 0 0 0 0 0 0 4 0]\n",
        " [0 0 0 0 0 0 0 0 0 5]]\n",
        "top influencers =  ['A', 'R']\n",
        "similarity_matrix =  [[0.   0.   0.67]\n",
        " [0.   0.   0.12]\n",
        " [0.67 0.12 0.  ]]\n",
        "['A' 'Q' 'R']\n",
        "[('A', 'R')]"
      ]
    },
    {
      "cell_type": "markdown",
      "metadata": {
        "id": "p1hbR6VAcQPX"
      },
      "source": [
        "### --- Testcase 4 --- ###\n",
        "#### You can get infile_4.txt from [here](https://drive.google.com/file/d/1OZZO5Muq0iviRSPwEWIfvWm_G3c4ktf4/view?usp=share_link) ####"
      ]
    },
    {
      "cell_type": "code",
      "execution_count": null,
      "metadata": {
        "id": "WPvV4eCTcQPX"
      },
      "outputs": [],
      "source": [
        "# Testcase 4\n",
        "followed_by_dict = generate_followed_by_dict(\"infile_4.txt\")\n",
        "print(followed_by_dict)\n",
        "M, person_names = generate_followed_by_matrix(followed_by_dict)\n",
        "print(\"M = \", M)\n",
        "print(\"person_names\", person_names)\n",
        "D = generate_degree_matrix(M)\n",
        "print(\"D = \", D)\n",
        "print(\"top influencers = \", get_top_influencer(M, person_names))\n",
        "SM, all_influencers = generate_similarity_matrix_among_influencers(M, person_names)\n",
        "print(\"similarity_matrix = \", SM)\n",
        "print(all_influencers)\n",
        "\n",
        "pairs = get_all_pairs_of_most_similar_influencers(SM, all_influencers)\n",
        "print(pairs)"
      ]
    },
    {
      "cell_type": "markdown",
      "metadata": {
        "id": "CIRON2facQPX"
      },
      "source": [
        "#### Expected output of Testcase 4 ####"
      ]
    },
    {
      "cell_type": "markdown",
      "metadata": {
        "id": "3g1FcWkacQPY"
      },
      "source": [
        "{'A': ['B', 'C', 'D', 'E', 'Q', 'P'], 'B': ['A', 'C', 'D', 'E'], 'C': ['D', 'E'], 'D': ['A', 'B', 'C', 'E'], 'E': ['A', 'B', 'C', 'D']}\n",
        "M =  [[0 1 1 1 1 1 1]\n",
        " [1 0 1 1 1 0 0]\n",
        " [0 0 0 1 1 0 0]\n",
        " [1 1 1 0 1 0 0]\n",
        " [1 1 1 1 0 0 0]\n",
        " [0 0 0 0 0 0 0]\n",
        " [0 0 0 0 0 0 0]]\n",
        "person_names ['A', 'B', 'C', 'D', 'E', 'P', 'Q']\n",
        "D =  [[6 0 0 0 0 0 0]\n",
        " [0 4 0 0 0 0 0]\n",
        " [0 0 2 0 0 0 0]\n",
        " [0 0 0 4 0 0 0]\n",
        " [0 0 0 0 4 0 0]\n",
        " [0 0 0 0 0 0 0]\n",
        " [0 0 0 0 0 0 0]]\n",
        "top influencers =  ['A']\n",
        "similarity_matrix =  [[0.   0.43 0.33 0.43 0.43]\n",
        " [0.43 0.   0.5  0.6  0.6 ]\n",
        " [0.33 0.5  0.   0.2  0.2 ]\n",
        " [0.43 0.6  0.2  0.   0.6 ]\n",
        " [0.43 0.6  0.2  0.6  0.  ]]\n",
        "['A' 'B' 'C' 'D' 'E']\n",
        "[('B', 'D'), ('B', 'E'), ('D', 'E')]"
      ]
    },
    {
      "cell_type": "markdown",
      "metadata": {
        "id": "Y-Q7NQmZcQPY"
      },
      "source": [
        "### --- Testcase 5 --- ###\n",
        "#### You can get infile_5.txt from [here](https://drive.google.com/file/d/1DsHlLf3s5YEem4jNeQM_XMbefce67kfA/view?usp=share_link) ####"
      ]
    },
    {
      "cell_type": "code",
      "execution_count": null,
      "metadata": {
        "id": "CzHHkKpfcQPY"
      },
      "outputs": [],
      "source": [
        "# Testcase 5\n",
        "followed_by_dict = generate_followed_by_dict(\"infile_5.txt\")\n",
        "print(followed_by_dict)\n",
        "M, person_names = generate_followed_by_matrix(followed_by_dict)\n",
        "print(\"M = \", M)\n",
        "print(\"person_names\", person_names)\n",
        "D = generate_degree_matrix(M)\n",
        "print(\"D = \", D)\n",
        "print(\"top influencers = \", get_top_influencer(M, person_names))\n",
        "SM, all_influencers = generate_similarity_matrix_among_influencers(M, person_names)\n",
        "print(\"similarity_matrix = \", SM)\n",
        "print(all_influencers)\n",
        "\n",
        "pairs = get_all_pairs_of_most_similar_influencers(SM, all_influencers)\n",
        "print(pairs)"
      ]
    },
    {
      "cell_type": "markdown",
      "metadata": {
        "id": "rfUsXAPecQPY"
      },
      "source": [
        "#### Expected output of Testcase 5 ####"
      ]
    },
    {
      "cell_type": "markdown",
      "metadata": {
        "id": "N_e_9a94cQPY"
      },
      "source": [
        "{'A': ['Q'], 'Q': ['A']}\n",
        "M =  [[0 1]\n",
        " [1 0]]\n",
        "person_names ['A', 'Q']\n",
        "D =  [[1 0]\n",
        " [0 1]]\n",
        "top influencers =  ['A', 'Q']\n",
        "similarity_matrix =  [[0. 0.]\n",
        " [0. 0.]]\n",
        "['A' 'Q']\n",
        "[]"
      ]
    }
  ],
  "metadata": {
    "colab": {
      "provenance": []
    },
    "kernelspec": {
      "display_name": "Python 3",
      "name": "python3"
    },
    "language_info": {
      "codemirror_mode": {
        "name": "ipython",
        "version": 3
      },
      "file_extension": ".py",
      "mimetype": "text/x-python",
      "name": "python",
      "nbconvert_exporter": "python",
      "pygments_lexer": "ipython3",
      "version": "3.11.4"
    }
  },
  "nbformat": 4,
  "nbformat_minor": 0
}